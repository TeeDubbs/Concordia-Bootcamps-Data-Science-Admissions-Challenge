{
  "cells": [
    {
      "cell_type": "markdown",
      "source": [
        "# Concordia Bootcamps Data Science Admissions Challenge"
      ],
      "metadata": {
        "id": "F12l8SIOdiJ7"
      },
      "id": "F12l8SIOdiJ7"
    },
    {
      "cell_type": "code",
      "execution_count": 6,
      "id": "3033fd44",
      "metadata": {
        "id": "3033fd44"
      },
      "outputs": [],
      "source": [
        "#Concordia Bootcamps Data Science Admissions Challenge\n",
        "import pandas as pd"
      ]
    },
    {
      "cell_type": "code",
      "execution_count": 7,
      "id": "2c9de780",
      "metadata": {
        "id": "2c9de780"
      },
      "outputs": [],
      "source": [
        "import pandas as pd\n",
        "df = pd.read_csv('results.csv')"
      ]
    },
    {
      "cell_type": "code",
      "execution_count": 8,
      "id": "bb2a11f0",
      "metadata": {
        "id": "bb2a11f0",
        "outputId": "81e41827-5509-4be1-e55c-fab646214e7a",
        "colab": {
          "base_uri": "https://localhost:8080/"
        }
      },
      "outputs": [
        {
          "output_type": "stream",
          "name": "stdout",
          "text": [
            "<class 'pandas.core.frame.DataFrame'>\n",
            "RangeIndex: 45315 entries, 0 to 45314\n",
            "Data columns (total 9 columns):\n",
            " #   Column      Non-Null Count  Dtype \n",
            "---  ------      --------------  ----- \n",
            " 0   date        45315 non-null  object\n",
            " 1   home_team   45315 non-null  object\n",
            " 2   away_team   45315 non-null  object\n",
            " 3   home_score  45315 non-null  int64 \n",
            " 4   away_score  45315 non-null  int64 \n",
            " 5   tournament  45315 non-null  object\n",
            " 6   city        45315 non-null  object\n",
            " 7   country     45315 non-null  object\n",
            " 8   neutral     45315 non-null  bool  \n",
            "dtypes: bool(1), int64(2), object(6)\n",
            "memory usage: 2.8+ MB\n"
          ]
        }
      ],
      "source": [
        "# Explore the df\n",
        "\n",
        "df.info()"
      ]
    },
    {
      "cell_type": "markdown",
      "id": "98b9d5dd",
      "metadata": {
        "id": "98b9d5dd"
      },
      "source": [
        "### Q1: What is the average number of goals for the home team?\n",
        "The average number of goasl for the home team is 1.7393136930376256"
      ]
    },
    {
      "cell_type": "code",
      "execution_count": 9,
      "id": "c2c5b5ea",
      "metadata": {
        "id": "c2c5b5ea",
        "colab": {
          "base_uri": "https://localhost:8080/"
        },
        "outputId": "bfb7c386-92d7-4374-e14a-9244a2238e95"
      },
      "outputs": [
        {
          "output_type": "stream",
          "name": "stdout",
          "text": [
            "Mean of 'home_score' column: 1.7393136930376256\n"
          ]
        }
      ],
      "source": [
        "mean_home_score = df['home_score'].mean()\n",
        "\n",
        "print(\"Mean of 'home_score' column:\", mean_home_score)\n",
        "\n",
        "\n",
        "\n"
      ]
    },
    {
      "cell_type": "markdown",
      "id": "ce194e01",
      "metadata": {
        "id": "ce194e01"
      },
      "source": [
        "### Q2: What is the average number of goals for the away team?\n",
        "The average number of goals for the away team is 1.1782412004854905"
      ]
    },
    {
      "cell_type": "code",
      "execution_count": 10,
      "id": "4fb43467",
      "metadata": {
        "id": "4fb43467",
        "colab": {
          "base_uri": "https://localhost:8080/"
        },
        "outputId": "0e807c3a-fbe9-434c-d7cd-554e6288f635"
      },
      "outputs": [
        {
          "output_type": "stream",
          "name": "stdout",
          "text": [
            "Mean of 'away_score' column: 1.1782412004854905\n"
          ]
        }
      ],
      "source": [
        "mean_away_score = df['away_score'].mean()\n",
        "\n",
        "print(\"Mean of 'away_score' column:\", mean_away_score)\n",
        "\n"
      ]
    },
    {
      "cell_type": "markdown",
      "id": "c6044d75",
      "metadata": {
        "id": "c6044d75"
      },
      "source": [
        "### Q3: What is the country with the highest overall home score?"
      ]
    },
    {
      "cell_type": "code",
      "execution_count": 11,
      "id": "e5d93b04",
      "metadata": {
        "id": "e5d93b04",
        "colab": {
          "base_uri": "https://localhost:8080/"
        },
        "outputId": "fba8d15a-05cc-4433-d490-c6de073ded42"
      },
      "outputs": [
        {
          "output_type": "stream",
          "name": "stdout",
          "text": [
            "Country with the highest overall home score: Australia\n"
          ]
        }
      ],
      "source": [
        "max_home_score_index = df['home_score'].idxmax()\n",
        "\n",
        "country_with_max_home_score = df.loc[max_home_score_index, 'country']\n",
        "\n",
        "print(\"Country with the highest overall home score:\", country_with_max_home_score)\n"
      ]
    },
    {
      "cell_type": "markdown",
      "id": "47e0f275",
      "metadata": {
        "id": "47e0f275"
      },
      "source": [
        "### Q4: What are the top 3 type of tournaments?\n",
        "The top 3 tournament types are Friendly, FIFA World Cup qualification, and UEFA Euro qualification.                       "
      ]
    },
    {
      "cell_type": "code",
      "execution_count": 12,
      "id": "2d65e4e3",
      "metadata": {
        "id": "2d65e4e3",
        "colab": {
          "base_uri": "https://localhost:8080/"
        },
        "outputId": "cafb0ed0-f8b3-4601-d92d-0ec838a8973d"
      },
      "outputs": [
        {
          "output_type": "stream",
          "name": "stdout",
          "text": [
            "Top 3 tournament:\n",
            "Friendly                        17773\n",
            "FIFA World Cup qualification     8016\n",
            "UEFA Euro qualification          2815\n",
            "Name: tournament, dtype: int64\n"
          ]
        }
      ],
      "source": [
        "tournament_type_counts = df['tournament'].value_counts()\n",
        "\n",
        "top_3_tournament_types = tournament_type_counts.head(3)\n",
        "\n",
        "print(\"Top 3 tournament:\")\n",
        "print(top_3_tournament_types)\n",
        "\n"
      ]
    },
    {
      "cell_type": "markdown",
      "id": "0bdc8158",
      "metadata": {
        "id": "0bdc8158"
      },
      "source": [
        "### Q5: Which country has the highest overall FIFA World Cup goals?\n",
        "Brazil is the country with the highest overall FIFA World Cup goals\n",
        "\n"
      ]
    },
    {
      "cell_type": "code",
      "execution_count": 13,
      "id": "db30530c",
      "metadata": {
        "id": "db30530c",
        "colab": {
          "base_uri": "https://localhost:8080/"
        },
        "outputId": "fbd93363-2a7c-4fd5-d417-bea632606ec5"
      },
      "outputs": [
        {
          "output_type": "stream",
          "name": "stdout",
          "text": [
            "            date  home_team      away_team  home_score  away_score  \\\n",
            "1311  1930-07-13    Belgium  United States           0           3   \n",
            "1312  1930-07-13     France         Mexico           4           1   \n",
            "1313  1930-07-14     Brazil     Yugoslavia           1           2   \n",
            "1314  1930-07-14       Peru        Romania           1           3   \n",
            "1315  1930-07-15  Argentina         France           1           0   \n",
            "\n",
            "          tournament        city  country  neutral  \n",
            "1311  FIFA World Cup  Montevideo  Uruguay     True  \n",
            "1312  FIFA World Cup  Montevideo  Uruguay     True  \n",
            "1313  FIFA World Cup  Montevideo  Uruguay     True  \n",
            "1314  FIFA World Cup  Montevideo  Uruguay     True  \n",
            "1315  FIFA World Cup  Montevideo  Uruguay     True  \n"
          ]
        }
      ],
      "source": [
        "fifa_df = df[df['tournament'] == 'FIFA World Cup']\n",
        "\n",
        "print(fifa_df.head())\n"
      ]
    },
    {
      "cell_type": "markdown",
      "source": [],
      "metadata": {
        "id": "FE0JJrWNcXVn"
      },
      "id": "FE0JJrWNcXVn"
    },
    {
      "cell_type": "code",
      "execution_count": 14,
      "id": "8dd33359",
      "metadata": {
        "id": "8dd33359",
        "colab": {
          "base_uri": "https://localhost:8080/"
        },
        "outputId": "f9a938db-bd49-40c1-9d80-5a2aa2e8556e"
      },
      "outputs": [
        {
          "output_type": "stream",
          "name": "stdout",
          "text": [
            "            date  home_team      away_team  home_score  away_score  \\\n",
            "1311  1930-07-13    Belgium  United States           0           3   \n",
            "1312  1930-07-13     France         Mexico           4           1   \n",
            "1313  1930-07-14     Brazil     Yugoslavia           1           2   \n",
            "1314  1930-07-14       Peru        Romania           1           3   \n",
            "1315  1930-07-15  Argentina         France           1           0   \n",
            "\n",
            "          tournament        city  country  neutral  total_score  \n",
            "1311  FIFA World Cup  Montevideo  Uruguay     True            3  \n",
            "1312  FIFA World Cup  Montevideo  Uruguay     True            5  \n",
            "1313  FIFA World Cup  Montevideo  Uruguay     True            3  \n",
            "1314  FIFA World Cup  Montevideo  Uruguay     True            4  \n",
            "1315  FIFA World Cup  Montevideo  Uruguay     True            1  \n"
          ]
        },
        {
          "output_type": "stream",
          "name": "stderr",
          "text": [
            "<ipython-input-14-fa6143d5153b>:1: SettingWithCopyWarning: \n",
            "A value is trying to be set on a copy of a slice from a DataFrame.\n",
            "Try using .loc[row_indexer,col_indexer] = value instead\n",
            "\n",
            "See the caveats in the documentation: https://pandas.pydata.org/pandas-docs/stable/user_guide/indexing.html#returning-a-view-versus-a-copy\n",
            "  fifa_df['total_score'] = fifa_df.apply(lambda row: row['home_score'] + row['away_score'], axis=1)\n"
          ]
        }
      ],
      "source": [
        "fifa_df['total_score'] = fifa_df.apply(lambda row: row['home_score'] + row['away_score'], axis=1)\n",
        "\n",
        "print(fifa_df.head())\n",
        "\n",
        "\n"
      ]
    },
    {
      "cell_type": "code",
      "execution_count": 15,
      "id": "682c7a8a",
      "metadata": {
        "id": "682c7a8a",
        "colab": {
          "base_uri": "https://localhost:8080/"
        },
        "outputId": "8c1bbf73-261f-4938-aeb3-88b2da8cf0dd"
      },
      "outputs": [
        {
          "output_type": "stream",
          "name": "stdout",
          "text": [
            "Country with the highest total score in FIFA World Cup matches: Brazil\n"
          ]
        }
      ],
      "source": [
        "country_total_scores = fifa_df.groupby('country')['total_score'].sum()\n",
        "\n",
        "country_with_highest_total_score = country_total_scores.idxmax()\n",
        "\n",
        "print(\"Country with the highest total score in FIFA World Cup matches:\", country_with_highest_total_score)\n"
      ]
    }
  ],
  "metadata": {
    "kernelspec": {
      "display_name": "Python 3 (ipykernel)",
      "language": "python",
      "name": "python3"
    },
    "language_info": {
      "codemirror_mode": {
        "name": "ipython",
        "version": 3
      },
      "file_extension": ".py",
      "mimetype": "text/x-python",
      "name": "python",
      "nbconvert_exporter": "python",
      "pygments_lexer": "ipython3",
      "version": "3.11.5"
    },
    "colab": {
      "provenance": []
    }
  },
  "nbformat": 4,
  "nbformat_minor": 5
}